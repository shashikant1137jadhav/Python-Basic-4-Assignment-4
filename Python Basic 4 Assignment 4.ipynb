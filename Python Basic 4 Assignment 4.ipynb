{
 "cells": [
  {
   "cell_type": "markdown",
   "id": "35a5ffa6",
   "metadata": {},
   "source": [
    "## 1. What exactly is []?"
   ]
  },
  {
   "cell_type": "code",
   "execution_count": null,
   "id": "6c93e8bd",
   "metadata": {},
   "outputs": [],
   "source": [
    "This is a empty list"
   ]
  },
  {
   "cell_type": "markdown",
   "id": "d5ca01cf",
   "metadata": {},
   "source": [
    "## 2. In a list of values stored in a variable called spam, how would you assign the value &#39;hello&#39; as the\n",
    "third value? (Assume [2, 4, 6, 8, 10] are in spam.)"
   ]
  },
  {
   "cell_type": "code",
   "execution_count": 1,
   "id": "e0072628",
   "metadata": {},
   "outputs": [],
   "source": [
    "spam = [2,4,6,8,10]\n",
    "spam[2]='hello'"
   ]
  },
  {
   "cell_type": "markdown",
   "id": "4fb7383f",
   "metadata": {},
   "source": [
    "Let&#39;s pretend the spam includes the list [&#39;a&#39;, &#39;b&#39;, &#39;c&#39;, &#39;d&#39;] for the next three queries."
   ]
  },
  {
   "cell_type": "markdown",
   "id": "2d746050",
   "metadata": {},
   "source": [
    "## 3. What is the value of spam[int(int(&#39;3&#39; * 2) / 11)]?"
   ]
  },
  {
   "cell_type": "code",
   "execution_count": null,
   "id": "7390f35d",
   "metadata": {},
   "outputs": [],
   "source": [
    "Ans is 'd'"
   ]
  },
  {
   "cell_type": "markdown",
   "id": "98251549",
   "metadata": {},
   "source": [
    "## 4. What is the value of spam[-1]?"
   ]
  },
  {
   "cell_type": "code",
   "execution_count": null,
   "id": "68669fd5",
   "metadata": {},
   "outputs": [],
   "source": [
    "'d'"
   ]
  },
  {
   "cell_type": "markdown",
   "id": "20f88f9f",
   "metadata": {},
   "source": [
    "## 5. What is the value of spam[:2]?"
   ]
  },
  {
   "cell_type": "code",
   "execution_count": 9,
   "id": "94aa0b6f",
   "metadata": {},
   "outputs": [],
   "source": [
    "['a', 'b']"
   ]
  },
  {
   "cell_type": "markdown",
   "id": "a953561a",
   "metadata": {},
   "source": [
    "Let&#39;s pretend bacon has the list [3.14, &#39;cat,&#39; 11, &#39;cat,&#39; True] for the next three questions."
   ]
  },
  {
   "cell_type": "markdown",
   "id": "f1283622",
   "metadata": {},
   "source": [
    "## 6. What is the value of bacon.index(&#39;cat&#39;)?"
   ]
  },
  {
   "cell_type": "code",
   "execution_count": 14,
   "id": "0001294b",
   "metadata": {},
   "outputs": [],
   "source": [
    "bacon=[3.14, 'cat', 11, 'cat', True]"
   ]
  },
  {
   "cell_type": "code",
   "execution_count": null,
   "id": "417931f1",
   "metadata": {},
   "outputs": [],
   "source": [
    "1"
   ]
  },
  {
   "cell_type": "markdown",
   "id": "cc285cec",
   "metadata": {},
   "source": [
    "## 7. How does bacon.append(99) change the look of the list value in bacon?"
   ]
  },
  {
   "cell_type": "code",
   "execution_count": 16,
   "id": "07610627",
   "metadata": {},
   "outputs": [],
   "source": [
    "[3.14, 'cat', 11, 'cat', True, 99]"
   ]
  },
  {
   "cell_type": "markdown",
   "id": "7130749a",
   "metadata": {},
   "source": [
    "## 8. How does bacon.remove(&#39;cat&#39;) change the look of the list in bacon?"
   ]
  },
  {
   "cell_type": "code",
   "execution_count": null,
   "id": "f2ffd32d",
   "metadata": {},
   "outputs": [],
   "source": [
    "if Question number 7 is not affected on bacon >>[3.14, 11, 'cat', True, 99]\n",
    "if Question number 7 is  affected on bacon >>[3.14, 11, 'cat', True]"
   ]
  },
  {
   "cell_type": "markdown",
   "id": "5b6a39fb",
   "metadata": {},
   "source": [
    "## 9. What are the list concatenation and list replication operators?"
   ]
  },
  {
   "cell_type": "code",
   "execution_count": null,
   "id": "d7b5265e",
   "metadata": {},
   "outputs": [],
   "source": [
    "List Concatenation :- We use + for list concatenation \n",
    "                     the list concatenation concatenate two list\n",
    "                    Eg.>> a=['shashi','vijay']\n",
    "                       >> b=['rahul']\n",
    "                       >> a+b\n",
    "                          ['shashi','vijay','rahul']\n",
    "\n",
    "List replication  :- We use * for list replication\n",
    "                     Eg. >> a=[80,90]\n",
    "                         >> a*3\n",
    "                            [80,90,80,90]"
   ]
  },
  {
   "cell_type": "markdown",
   "id": "2a6994bb",
   "metadata": {},
   "source": [
    "## 10. What is difference between the list methods append() and insert()?"
   ]
  },
  {
   "cell_type": "raw",
   "id": "7d88f51b",
   "metadata": {},
   "source": [
    "append :- Here we can add the element only at end of the list\n",
    "         Eg. >> a = [10,50]\n",
    "             >> a.append(60)\n",
    "                [10,50,60]\n",
    "            \n",
    "insert :- Here we can add a specific element at a specified index \n",
    "        Eg. >> a= [10,50]\n",
    "            >> a.insert(0,30)\n",
    "                [30,10,50]"
   ]
  },
  {
   "cell_type": "markdown",
   "id": "ef564b9e",
   "metadata": {},
   "source": [
    "## 11. What are the two methods for removing items from a list?"
   ]
  },
  {
   "cell_type": "code",
   "execution_count": null,
   "id": "8ab8d551",
   "metadata": {},
   "outputs": [],
   "source": [
    "There are 3 methods for removing items from a list they are \n",
    "i) remove()   :- Here we can remove the very first given element matching in the list\n",
    "ii) pop()     :- Here we can removes a element from the list based on the index given\n",
    "iii) clear()  :- Here we can remove all the elements present in the listist."
   ]
  },
  {
   "cell_type": "markdown",
   "id": "128ce6dc",
   "metadata": {},
   "source": [
    "## 12. Describe how list values and string values are identical."
   ]
  },
  {
   "cell_type": "code",
   "execution_count": null,
   "id": "44334517",
   "metadata": {},
   "outputs": [],
   "source": [
    " The values that make up a list are called its elements. Lists are similar to strings, which are ordered collections of characters, except that the elements of a list can have any type and for any one list, the items can be of different types."
   ]
  },
  {
   "cell_type": "markdown",
   "id": "f0443fbf",
   "metadata": {},
   "source": [
    "## 13. What&#39;s the difference between tuples and lists?"
   ]
  },
  {
   "cell_type": "code",
   "execution_count": null,
   "id": "6929e852",
   "metadata": {},
   "outputs": [],
   "source": [
    "tuple :- tuple is a immutable (which elements does not change using indexing)\n",
    "lists :- list is a mutable (we can easily change it's elements)\n",
    "\n",
    "t=(10,20,30)     #tuple\n",
    "l=(10,20,30)     #list\n",
    "t[0]=50          #Here we are going to change the elements in tuple so its gives a error\n",
    "l[0]=50          #Here list can be change and updated list be list [10,50,30]"
   ]
  },
  {
   "cell_type": "markdown",
   "id": "c201a738",
   "metadata": {},
   "source": [
    "## 14. How do you type a tuple value that only contains the integer 42?"
   ]
  },
  {
   "cell_type": "code",
   "execution_count": null,
   "id": "0b7ce221",
   "metadata": {},
   "outputs": [],
   "source": [
    "t = (42,)"
   ]
  },
  {
   "cell_type": "markdown",
   "id": "d7822c55",
   "metadata": {},
   "source": [
    "## 15. How do you get a list value&#39;s tuple form? How do you get a tuple value&#39;s list form?"
   ]
  },
  {
   "cell_type": "code",
   "execution_count": 28,
   "id": "939777d0",
   "metadata": {},
   "outputs": [],
   "source": [
    "Here we can change by built in function \n",
    "t= (10,20,50)\n",
    "l = [60,70,80] \n",
    "\n",
    "#list to tuple\n",
    "t1=tuple(l)\n",
    "\n",
    "#tuple to list\n",
    "l1=list(t)"
   ]
  },
  {
   "cell_type": "markdown",
   "id": "7f054d21",
   "metadata": {},
   "source": [
    "## 16. Variables that &quot;contain&quot; list values are not necessarily lists themselves. Instead, what do they contain?"
   ]
  },
  {
   "cell_type": "code",
   "execution_count": null,
   "id": "085095b5",
   "metadata": {},
   "outputs": [],
   "source": [
    "Variables will contain references to list values rather than list values themselves. But for strings and integer values, variables simply contain the string or integer value. "
   ]
  },
  {
   "cell_type": "markdown",
   "id": "4dd9d7e5",
   "metadata": {},
   "source": [
    "## 17. How do you distinguish between copy.copy() and copy.deepcopy()?"
   ]
  },
  {
   "cell_type": "code",
   "execution_count": null,
   "id": "16c59d18",
   "metadata": {},
   "outputs": [],
   "source": [
    "copy() :- it's create reference to original object. If you change copied object - you change the original object \n",
    "deepcopy() :- creates new object and does real copying of original object to new one."
   ]
  }
 ],
 "metadata": {
  "kernelspec": {
   "display_name": "Python 3 (ipykernel)",
   "language": "python",
   "name": "python3"
  },
  "language_info": {
   "codemirror_mode": {
    "name": "ipython",
    "version": 3
   },
   "file_extension": ".py",
   "mimetype": "text/x-python",
   "name": "python",
   "nbconvert_exporter": "python",
   "pygments_lexer": "ipython3",
   "version": "3.9.12"
  }
 },
 "nbformat": 4,
 "nbformat_minor": 5
}
